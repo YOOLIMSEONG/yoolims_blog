{
  "cells": [
    {
      "cell_type": "markdown",
      "metadata": {},
      "source": [
        "---\n",
        "title: \"Practice_Date_and_String_250722\"\n",
        "author: \"Seong Yoolim\"\n",
        "date: \"2025-07-23\"\n",
        "categories: [code, study]\n",
        "---\n",
        "\n",
        "# 날짜형, 문자형 다루기 연습 - 자전거 시스템의 대여 기록"
      ],
      "id": "b9a4c956"
    },
    {
      "cell_type": "code",
      "metadata": {},
      "source": [
        "import numpy as np\n",
        "import pandas as pd\n",
        "\n",
        "# 날짜형, 문자형 다루기 연습 - 자전거 시스템의 대여 기록\n",
        "df = pd.read_csv('bike_data.csv')\n",
        "df.head()\n",
        "df.info()\n",
        "# 데이터 속성 변환\n",
        "df = df.astype({'datetime' : 'datetime64[ns]', 'weather' : 'int64', \n",
        "                'season' : 'object', 'workingday' : 'object', \n",
        "                'holiday' : 'object'})\n",
        "df.head()\n",
        "df.info()"
      ],
      "id": "f04d2975",
      "execution_count": null,
      "outputs": []
    },
    {
      "cell_type": "markdown",
      "metadata": {},
      "source": [
        "1.  계절(season) == 1일 때, 가장 대여량이 많은 시간대(hour)을 구하시오."
      ],
      "id": "d92ed871"
    },
    {
      "cell_type": "code",
      "metadata": {},
      "source": [
        "import numpy as np\n",
        "import pandas as pd\n",
        "\n",
        "df_season1 = df[df['season'] == 1]\n",
        "df_season1['hour'] = df['datetime'].dt.hour\n",
        "df_season1\n",
        "#df_season1_max = df_season1.groupby('hour')['count'].mean()\n",
        "#max_count = df_season1_max.max()\n",
        "#max_hour = df_season1_max.idxmax()\n",
        "#max(df[df['season'] == 1]['count'])\n",
        "max_count = df_season1.loc[df_season1['count'].idxmax()]['count']\n",
        "max_count\n",
        "max_time = df_season1.loc[df_season1['count'].idxmax()]['datetime']\n",
        "max_hour= max_time.hour\n",
        "max_hour\n",
        "print(\"count가 가장 큰 hour는\", max_hour, \"이며, 대여량은\", max_count, \"입니다.\")"
      ],
      "id": "741e2a60",
      "execution_count": null,
      "outputs": []
    },
    {
      "cell_type": "markdown",
      "metadata": {},
      "source": [
        "2.  각 계절(season)별 평균 대여량(count)을 구하시오."
      ],
      "id": "8b8a3a71"
    },
    {
      "cell_type": "code",
      "metadata": {},
      "source": [
        "import numpy as np\n",
        "import pandas as pd\n",
        "\n",
        "df.groupby('season')['count'].mean()"
      ],
      "id": "0505c0ff",
      "execution_count": null,
      "outputs": []
    },
    {
      "cell_type": "markdown",
      "metadata": {},
      "source": [
        "3.  특정 달(month) 동안의 총 대여량(count)을 구하시오."
      ],
      "id": "e04357ae"
    },
    {
      "cell_type": "code",
      "metadata": {},
      "source": [
        "import numpy as np\n",
        "import pandas as pd\n",
        "\n",
        "df['month'] = df['datetime'].dt.month\n",
        "df.groupby('month')['count'].sum()"
      ],
      "id": "b0e83aea",
      "execution_count": null,
      "outputs": []
    },
    {
      "cell_type": "markdown",
      "metadata": {},
      "source": [
        "4.  가장 대여량이 많은 날짜를 구하시오."
      ],
      "id": "76974587"
    },
    {
      "cell_type": "code",
      "metadata": {},
      "source": [
        "import numpy as np\n",
        "import pandas as pd\n",
        "\n",
        "df['date'] = df['datetime'].dt.date\n",
        "\n",
        "df_max_count = df.groupby('date')['count'].sum()\n",
        "df_max_count\n",
        "df_max_count.max()\n",
        "df_max_count.idxmax()\n",
        "print(\"가장 대여량이 많은 날짜는\", df_max_count.idxmax(), \"이며, 대여량은\", df_max_count.max(), \"입니다.\")"
      ],
      "id": "64468709",
      "execution_count": null,
      "outputs": []
    },
    {
      "cell_type": "markdown",
      "metadata": {},
      "source": [
        "5.  시간대(hour)별 평균 대여량(count)을 구하시오."
      ],
      "id": "861794c2"
    },
    {
      "cell_type": "code",
      "metadata": {},
      "source": [
        "import numpy as np\n",
        "import pandas as pd\n",
        "\n",
        "df['hour'] = df['datetime'].dt.hour\n",
        "df_hour_avg = df.groupby('hour')['count'].mean()\n",
        "hour = df['datetime'].dt.hour\n",
        "# 외부 배열이라도 길이가 같으면 groupby 가능\n",
        "hour = df['datetime'].dt.hour\n",
        "type(hour)\n",
        "df_hour_avg = df.groupby(hour)['count'].mean()\n",
        "df_hour_avg"
      ],
      "id": "0721675b",
      "execution_count": null,
      "outputs": []
    },
    {
      "cell_type": "markdown",
      "metadata": {},
      "source": [
        "6.  특정 요일(weekday) 동안의 총 대여량(count)을 구하시오."
      ],
      "id": "5417ad45"
    },
    {
      "cell_type": "code",
      "metadata": {},
      "source": [
        "import numpy as np\n",
        "import pandas as pd\n",
        "\n",
        "df['weekday'] = df['datetime'].dt.day_name() # weekday 쓰면 숫자로 나옴\n",
        "df\n",
        "df_grouped = df.groupby('weekday')['count'].sum()\n",
        "df_grouped = pd.DataFrame(df_grouped)\n",
        "df_grouped = df_grouped.reset_index()\n",
        "df_grouped\n",
        "weekday = df_grouped.iloc[:,0]\n",
        "weekday\n",
        "count_weekday = df_grouped.iloc[:,1]\n",
        "count_weekday\n",
        "for i in range(0, 7):\n",
        "    print(f\"{weekday[i]} 동안의 총 대여량은 {count_weekday[i]} 입니다.\")\n"
      ],
      "id": "3d745fa2",
      "execution_count": null,
      "outputs": []
    },
    {
      "cell_type": "markdown",
      "metadata": {},
      "source": [
        "7.   주어진 Bike Sharing 데이터를 사용하여 넓은 형식(wide format)에서 긴 형식(long format)으로 변환하시오. casual과 registered 열을 하나의 열로 변환하고, 각 기록의 대여 유형과 대여 수를 포함하는 긴 형식 데이터프레임을 만드시오."
      ],
      "id": "171aefa8"
    },
    {
      "cell_type": "code",
      "metadata": {},
      "source": [
        "import numpy as np\n",
        "import pandas as pd\n",
        "\n",
        "df_long = df.melt(value_vars=['casual', 'registered'],\n",
        "        id_vars=['datetime','season'],\n",
        "        var_name='대여 유형',\n",
        "        value_name='대여 수'\n",
        "        )\n",
        "df_long"
      ],
      "id": "cfefb89d",
      "execution_count": null,
      "outputs": []
    },
    {
      "cell_type": "markdown",
      "metadata": {},
      "source": [
        "8.  이전에 생성한 긴 형식 데이터프레임을 활용하여 각 계절(season)별로 casual과 registered 사용자의 평균 대여 수(count)를 구하시오."
      ],
      "id": "e56e98c2"
    },
    {
      "cell_type": "code",
      "metadata": {},
      "source": [
        "import numpy as np\n",
        "import pandas as pd\n",
        "\n",
        "df_long_pivot = df_long.pivot_table(\n",
        "    index=\"season\",\n",
        "    values='대여 수',\n",
        "    columns='대여 유형',\n",
        "    aggfunc='mean'\n",
        ").reset_index()\n",
        "df_long_pivot\n",
        "df_pivot = df_long_pivot.melt(\n",
        "    value_vars=['casual', 'registered'],\n",
        "    var_name='user_type',\n",
        "    value_name='user_count',\n",
        "    id_vars='season'\n",
        ")\n",
        "df_pivot.sort_values('season')\n",
        "# groupby\n",
        "# df8.groupby(['season','user_type'])['user_count'].mean().reset_index()"
      ],
      "id": "47b7ca82",
      "execution_count": null,
      "outputs": []
    },
    {
      "cell_type": "markdown",
      "metadata": {},
      "source": [
        "# 앱 로그 데이터"
      ],
      "id": "62298489"
    },
    {
      "cell_type": "code",
      "metadata": {},
      "source": [
        "import numpy as np\n",
        "import pandas as pd\n",
        "\n",
        "\n",
        "# 앱 로그 데이터\n",
        "pd.set_option('display.max_columns', None) # 전체 칼럼 정보 프린트 옵션\n",
        "df = pd.read_csv('logdata.csv')\n",
        "df"
      ],
      "id": "19a8ef5f",
      "execution_count": null,
      "outputs": []
    },
    {
      "cell_type": "markdown",
      "metadata": {},
      "source": [
        "9.  로그 칼럼에서 숫자 정보만 추출하시오."
      ],
      "id": "ec6ba983"
    },
    {
      "cell_type": "code",
      "metadata": {},
      "source": [
        "import numpy as np\n",
        "import pandas as pd\n",
        "\n",
        "# df['로그'].str.extract(r'([\\d+\\W+]+[\\d+\\W+]+[\\d+])', expand=True)\n",
        "df['로그'].str.extract(r'(\\d{4})-(\\d{2})-(\\d{2})\\s+(\\d{2}):(\\d{2}):(\\d{2}).*?(\\d+)', expand=True)\n",
        "df_num = df['로그'].str.extractall(r'(\\d+)')\n",
        "# chat gpt\n",
        "df_num = df_num.groupby(level=0).agg(list)\n",
        "df_num\n",
        "df_num[0].apply(pd.Series)\n",
        "\n",
        "#'(\\d{4})-(\\d{2})-(\\d{2})\\s+(\\d{2}):(\\d{2}):(\\d{2}).*?(\\d+)'"
      ],
      "id": "0b023a20",
      "execution_count": null,
      "outputs": []
    },
    {
      "cell_type": "markdown",
      "metadata": {},
      "source": [
        "10. 로그 칼럼에서 모든 시간 정보를 추출하시오."
      ],
      "id": "37438fd3"
    },
    {
      "cell_type": "code",
      "metadata": {},
      "source": [
        "import numpy as np\n",
        "import pandas as pd\n",
        "\n",
        "df['로그'].str.extract(r'([\\d+\\W+]+\\d+\\W+)', expand=True)"
      ],
      "id": "145d4339",
      "execution_count": null,
      "outputs": []
    },
    {
      "cell_type": "markdown",
      "metadata": {},
      "source": [
        "11. 로그 칼럼에서 한글 정보만 추출하시오."
      ],
      "id": "eb0a2301"
    },
    {
      "cell_type": "code",
      "metadata": {},
      "source": [
        "import numpy as np\n",
        "import pandas as pd\n",
        "\n",
        "df['로그'].str.extract(r'([가-힣]+)', expand=True)"
      ],
      "id": "4ee43e05",
      "execution_count": null,
      "outputs": []
    },
    {
      "cell_type": "markdown",
      "metadata": {},
      "source": [
        "12. 로그 칼럼에서 특수 문자를 제거하시오."
      ],
      "id": "1cce1691"
    },
    {
      "cell_type": "code",
      "metadata": {},
      "source": [
        "import numpy as np\n",
        "import pandas as pd\n",
        "\n",
        "df['로그'].str.extractall(r'([^a-zA-Z0-9가-힣\\s])')\n",
        "df['로그'].str.replace(r'[^a-zA-Z0-9가-힣\\s]', ' ', regex=True)"
      ],
      "id": "073747f5",
      "execution_count": null,
      "outputs": []
    },
    {
      "cell_type": "markdown",
      "metadata": {},
      "source": [
        "13. 로그 칼럼에서 유저, Amount 값을 추출한 후 각 유저별 Amount의 평균값을 계산하시오."
      ],
      "id": "011e6613"
    },
    {
      "cell_type": "code",
      "metadata": {},
      "source": [
        "import numpy as np\n",
        "import pandas as pd\n",
        "\n",
        "df_log = pd.DataFrame()\n",
        "df_log\n",
        "df_log['유저'] = df['로그'].str.extract(r'([가-힣]+)', expand=True)\n",
        "df_log['amount'] = df['로그'].str.extract(r'Amount:\\s(\\d+)',expand=True)\n",
        "df_log = df_log.dropna()\n",
        "df_log['amount'] = df_log['amount'].astype('Int64')\n",
        "df_log.groupby('유저')['amount'].mean()"
      ],
      "id": "7c9e945e",
      "execution_count": null,
      "outputs": []
    }
  ],
  "metadata": {
    "kernelspec": {
      "name": "ls-gen5",
      "language": "python",
      "display_name": "Python (ls-gen5)",
      "path": "C:\\Users\\USER\\AppData\\Roaming\\jupyter\\kernels\\ls-gen5"
    }
  },
  "nbformat": 4,
  "nbformat_minor": 5
}